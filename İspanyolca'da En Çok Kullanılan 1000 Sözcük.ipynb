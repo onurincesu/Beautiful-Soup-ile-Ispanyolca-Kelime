{
 "cells": [
  {
   "cell_type": "code",
   "execution_count": 1,
   "id": "c2aca6d0",
   "metadata": {},
   "outputs": [],
   "source": [
    "import requests\n",
    "from bs4 import BeautifulSoup\n",
    "import pandas as pd"
   ]
  },
  {
   "cell_type": "code",
   "execution_count": 2,
   "id": "a395d295",
   "metadata": {},
   "outputs": [
    {
     "data": {
      "text/plain": [
       "<title>1000 Most Common Spanish Words - Frequency Vocabulary - Strømmen Language Classes</title>"
      ]
     },
     "execution_count": 2,
     "metadata": {},
     "output_type": "execute_result"
    }
   ],
   "source": [
    "r=requests.get(\"https://strommeninc.com/1000-most-common-spanish-words-frequency-vocabulary/\")\n",
    "source=BeautifulSoup(r.content,\"html.parser\")\n",
    "source.title"
   ]
  },
  {
   "cell_type": "code",
   "execution_count": 3,
   "id": "f98870ba",
   "metadata": {},
   "outputs": [],
   "source": [
    "kelimeler=source.find(\"tbody\").find_all(\"tr\")"
   ]
  },
  {
   "cell_type": "code",
   "execution_count": 4,
   "id": "bcbe405f",
   "metadata": {},
   "outputs": [],
   "source": [
    "ispanyolca=[]\n",
    "ingilizce=[]\n",
    "\n",
    "for i in kelimeler:\n",
    "    ispanyolca.append(i.find_all(\"td\")[1].text)\n",
    "    ingilizce.append(i.find_all(\"td\")[2].text)"
   ]
  },
  {
   "cell_type": "code",
   "execution_count": 5,
   "id": "b43d6f91",
   "metadata": {},
   "outputs": [
    {
     "data": {
      "text/plain": [
       "'his'"
      ]
     },
     "execution_count": 5,
     "metadata": {},
     "output_type": "execute_result"
    }
   ],
   "source": [
    "kelimeler[3].find_all(\"td\")[2].text"
   ]
  },
  {
   "cell_type": "code",
   "execution_count": 6,
   "id": "e5d00a8f",
   "metadata": {},
   "outputs": [],
   "source": [
    "veri = {\"İspanyolca\": ispanyolca, \"İngilizce\": ingilizce}\n",
    "df = pd.DataFrame(veri)"
   ]
  },
  {
   "cell_type": "code",
   "execution_count": 7,
   "id": "5f396c10",
   "metadata": {},
   "outputs": [
    {
     "data": {
      "text/html": [
       "<div>\n",
       "<style scoped>\n",
       "    .dataframe tbody tr th:only-of-type {\n",
       "        vertical-align: middle;\n",
       "    }\n",
       "\n",
       "    .dataframe tbody tr th {\n",
       "        vertical-align: top;\n",
       "    }\n",
       "\n",
       "    .dataframe thead th {\n",
       "        text-align: right;\n",
       "    }\n",
       "</style>\n",
       "<table border=\"1\" class=\"dataframe\">\n",
       "  <thead>\n",
       "    <tr style=\"text-align: right;\">\n",
       "      <th></th>\n",
       "      <th>İspanyolca</th>\n",
       "      <th>İngilizce</th>\n",
       "    </tr>\n",
       "  </thead>\n",
       "  <tbody>\n",
       "    <tr>\n",
       "      <th>0</th>\n",
       "      <td>Spanish</td>\n",
       "      <td>in English</td>\n",
       "    </tr>\n",
       "    <tr>\n",
       "      <th>1</th>\n",
       "      <td>como</td>\n",
       "      <td>as</td>\n",
       "    </tr>\n",
       "    <tr>\n",
       "      <th>2</th>\n",
       "      <td>yo</td>\n",
       "      <td>I</td>\n",
       "    </tr>\n",
       "    <tr>\n",
       "      <th>3</th>\n",
       "      <td>su</td>\n",
       "      <td>his</td>\n",
       "    </tr>\n",
       "    <tr>\n",
       "      <th>4</th>\n",
       "      <td>que</td>\n",
       "      <td>that</td>\n",
       "    </tr>\n",
       "  </tbody>\n",
       "</table>\n",
       "</div>"
      ],
      "text/plain": [
       "  İspanyolca   İngilizce\n",
       "0    Spanish  in English\n",
       "1       como          as\n",
       "2         yo           I\n",
       "3         su         his\n",
       "4        que        that"
      ]
     },
     "execution_count": 7,
     "metadata": {},
     "output_type": "execute_result"
    }
   ],
   "source": [
    "df.head()"
   ]
  },
  {
   "cell_type": "code",
   "execution_count": 58,
   "id": "ec2c7e01",
   "metadata": {},
   "outputs": [],
   "source": [
    "df=df.drop(0)"
   ]
  },
  {
   "cell_type": "code",
   "execution_count": 61,
   "id": "11f1ed84",
   "metadata": {},
   "outputs": [],
   "source": [
    "df.to_excel(\"kelimeler.xlsx\")"
   ]
  }
 ],
 "metadata": {
  "kernelspec": {
   "display_name": "Python 3 (ipykernel)",
   "language": "python",
   "name": "python3"
  },
  "language_info": {
   "codemirror_mode": {
    "name": "ipython",
    "version": 3
   },
   "file_extension": ".py",
   "mimetype": "text/x-python",
   "name": "python",
   "nbconvert_exporter": "python",
   "pygments_lexer": "ipython3",
   "version": "3.10.9"
  }
 },
 "nbformat": 4,
 "nbformat_minor": 5
}
